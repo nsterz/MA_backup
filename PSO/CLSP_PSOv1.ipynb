{
 "cells": [
  {
   "cell_type": "code",
   "execution_count": 1,
   "id": "9c772fbb-91c5-4780-b768-355ba94e9355",
   "metadata": {},
   "outputs": [],
   "source": [
    "from dataclasses import dataclass\n",
    "import numpy as np\n",
    "from numba import njit, prange, get_thread_id\n",
    "import numba\n",
    "import os\n",
    "import time\n",
    "import math\n",
    "from helper_functions import round\n",
    "from levy_flights import estimate_mean_abs_levy, levy_step, levy_bit_flip,levy_jump_Q\n",
    "from Swarm_IQ import decode_prod_plan, compute_objective, encode_prod_plan\n",
    "from PSO import iterate, update_swarm"
   ]
  },
  {
   "cell_type": "code",
   "execution_count": 2,
   "id": "a6f9b534-e04c-421b-a549-3d387f3a7f84",
   "metadata": {},
   "outputs": [],
   "source": [
    "\n",
    "@dataclass(frozen=True)\n",
    "class SwarmConfig:\n",
    "    M: int = 8\n",
    "    T: int = 8\n",
    "    setup_costs: np.ndarray = np.array([112,184,144,187,127,147,100,188], dtype=np.float64)\n",
    "    production_costs: np.ndarray = np.array([1,1,1,1,1,1,1,1], dtype=np.float64)\n",
    "    inventory_costs: np.ndarray = np.array([5,3,4,6,5,3,6,2], dtype=np.float64)\n",
    "    production_times: np.ndarray = np.array([1,1,1,1,1,1,1,1], dtype=np.float64)\n",
    "    setup_times: np.ndarray = np.array([2,5,5,1,8,3,6,2], dtype=np.float64)\n",
    "    capacities: np.ndarray = np.array([200,200,210,200,160,190,170,170], dtype=np.float64)\n",
    "    # each row corresponds to one product\n",
    "    demand: np.ndarray = np.array([[43.0, 29.0, 52.0, 0.0, 0.0, 0.0, 42.0, 0.0],\n",
    "       [30.0, 0.0, 0.0, 40.0, 20.0, 0.0, 6.0, 27.0],\n",
    "       [0, 20, 0, 50, 60, 11, 0, 30],\n",
    "       [33.0, 43.0, 30.0, 0.0, 16.0, 48.0, 37.0, 33.0],\n",
    "       [0.0, 0.0, 0.0, 41.0, 16.0, 0.0, 55.0, 0.0],\n",
    "       [0, 0, 21, 13, 7, 0, 22, 0],\n",
    "       [0.0, 25.0, 43.0, 25.0, 0.0, 52.0, 10.0, 42.0],\n",
    "       [42.0, 18.0, 40.0, 2.0, 0.0, 71.0, 0.0, 41.0]], dtype=np.float64)\n"
   ]
  },
  {
   "cell_type": "code",
   "execution_count": 7,
   "id": "2ba9e7bd-9e59-47f4-9330-06032463a385",
   "metadata": {
    "scrolled": true
   },
   "outputs": [],
   "source": [
    "class Swarm:\n",
    "    def __init__(self, n_particles, C1=1.5, C2=1.5, Vzmax=4.0, Vqmax=0.1, inertia = 1.0, stagn_thres = 49,\n",
    "                 levy_alpha = 1.5, levy_c_frac = 0.1, levy_samples=100000, levy_q_max_step=1.0, target_avg_Q_step = 0.1):\n",
    "        # keep the frozen config around for the other parameters\n",
    "        self.cfg = SwarmConfig()\n",
    "        N, M, T       = n_particles, self.cfg.M, self.cfg.T\n",
    "\n",
    "        self.levy_samples = levy_samples\n",
    "        self.levy_alpha   = levy_alpha\n",
    "        self.levy_c_frac  = levy_c_frac\n",
    "        self.levy_q_max_step = levy_q_max_step\n",
    "        self.stagn_thres = stagn_thres\n",
    "\n",
    "        # precompute mean |L| and scales\n",
    "        mean_abs_L = estimate_mean_abs_levy(self.levy_alpha, self.levy_samples)\n",
    "        self.levy_Sx = self.levy_c_frac  / mean_abs_L\n",
    "\n",
    "        self.levy_Sq = target_avg_Q_step / mean_abs_L\n",
    "        #self.levy_Sq = target_avg_Q_step\n",
    "\n",
    "        self.inertia = inertia\n",
    "        self.C1, self.C2, self.Vzmax, self.Vqmax = C1, C2, Vzmax, Vqmax\n",
    "\n",
    "        # initialize all particles using 3D arrays\n",
    "        self.Xs   = np.random.randint(0, 2, size=(N, T, M)).astype(np.float64)\n",
    "        self.Qs = np.random.rand(N, T, M)\n",
    "        self.VZs  = (np.random.rand(N, T, M)*2 - 1) * Vzmax\n",
    "        self.VQs  = (np.random.rand(N, T, M)*2 - 1) * Vqmax\n",
    "\n",
    "        self.pbest_X   = self.Xs.copy()\n",
    "        self.pbest_Q   = self.Qs.copy()\n",
    "        self.pbest_Val = np.full((N,  1, 2), np.inf)\n",
    "\n",
    "        self.gbest_X   = np.zeros((T, M), dtype=np.float64)\n",
    "        self.gbest_Q   = np.zeros((T, M), dtype=np.float64)\n",
    "        self.gbest_Val = np.full((1,2), np.inf)\n",
    "        self.stagn_count = np.zeros(N, dtype=np.int16)\n",
    "\n",
    "\n",
    "        # one cold-start update to fill pbest and gbest\n",
    "        self._reduce_global(update_swarm(\n",
    "            self.Xs, self.Qs, self.VZs, self.VQs,\n",
    "            self.pbest_X, self.pbest_Q, self.pbest_Val,\n",
    "            self.gbest_X, self.gbest_Q,\n",
    "            self.inertia, C1, C2, Vzmax, Vqmax,\n",
    "            self.cfg.demand,\n",
    "            self.cfg.production_times,\n",
    "            self.cfg.setup_times,\n",
    "            self.cfg.capacities,\n",
    "            self.cfg.production_costs,\n",
    "            self.cfg.setup_costs,\n",
    "            self.cfg.inventory_costs,\n",
    "            # no randomness needed for cold start: pass zeros\n",
    "            np.zeros(N), np.zeros(N), np.zeros(N), np.zeros(N),\n",
    "            np.zeros((N, T, M)), self.stagn_count, self.levy_Sx, self.levy_Sq, self.levy_alpha, \n",
    "            self.levy_q_max_step,  self.stagn_thres\n",
    "        ))\n",
    "\n",
    "    def _reduce_global(self, thread_results):\n",
    "        # reduces all the thread-local minima into a single true global minimum\n",
    "        values, indices = thread_results\n",
    "        for t in range(values.shape[0]):\n",
    "            i = indices[t]\n",
    "            v0 = values[t, 0, 0]\n",
    "            v1 = values[t, 0, 1]\n",
    "            b0 = self.gbest_Val[0, 0]\n",
    "            b1 = self.gbest_Val[0, 1]\n",
    "            if (v0 < b0) or (v0 == b0 and v1 < b1):\n",
    "                self.gbest_Val[0, 0] = v0\n",
    "                self.gbest_Val[0, 1] = v1\n",
    "                self.gbest_X[:] = self.pbest_X[i]\n",
    "                self.gbest_Q[:] = self.pbest_Q[i]\n",
    "\n",
    "    def optimize(self, n_iter):\n",
    "        \n",
    "        N, T, M = self.Xs.shape\n",
    "    \n",
    "        for t in range(n_iter):\n",
    "           \n",
    " \n",
    "            # pre-generate random numbers\n",
    "            r1, r2, r3, r4 = (np.random.rand(N) for _ in range(4))\n",
    "            rand_vals     = np.random.rand(N, T, M)\n",
    "\n",
    "            # perform iteration of entire swarm\n",
    "            thread_results = update_swarm(\n",
    "                self.Xs, self.Qs, self.VZs, self.VQs,\n",
    "                self.pbest_X, self.pbest_Q, self.pbest_Val,\n",
    "                self.gbest_X, self.gbest_Q,\n",
    "                self.inertia, self.C1, self.C2, self.Vzmax, self.Vqmax,\n",
    "                self.cfg.demand, self.cfg.production_times,\n",
    "                self.cfg.setup_times, self.cfg.capacities,\n",
    "                self.cfg.production_costs, self.cfg.setup_costs, self.cfg.inventory_costs,\n",
    "                r1, r2, r3, r4, rand_vals, self.stagn_count, self.levy_Sx, self.levy_Sq,\n",
    "                self.levy_alpha, self.levy_q_max_step,  self.stagn_thres\n",
    "            )\n",
    "            # update global best solution\n",
    "            self._reduce_global(thread_results)\n",
    "    \n",
    "        return decode_prod_plan(self.gbest_X.T, self.gbest_Q.T,self.cfg.demand) ,self.gbest_Val\n",
    "\n",
    "        "
   ]
  },
  {
   "cell_type": "code",
   "execution_count": 8,
   "id": "cc6870a9-39f1-4441-832f-f72610a7cc9f",
   "metadata": {
    "scrolled": true
   },
   "outputs": [
    {
     "name": "stdout",
     "output_type": "stream",
     "text": [
      "[6548.0, 6548.0, 7092.0, 6686.0, 6534.0, 6913.0, 6992.0, 6724.0, 7036.0, 6673.0, 6548.0, 6603.0, 6963.0, 6788.0, 7014.0, 6686.0, 6608.0, 6734.0, 6779.0, 7026.0]\n"
     ]
    }
   ],
   "source": [
    "#  pin a stable threading layer before Numba is loaded:\n",
    "os.environ[\"NUMBA_THREADING_LAYER\"] = \"workqueue\"\n",
    "results = []\n",
    "bad_results = []\n",
    "for i in range(20):\n",
    "\n",
    "    np.random.seed(i) \n",
    "    # instantiate swarm\n",
    "    \n",
    "    sw = Swarm(n_particles=100, C1=2.0, C2=2.0, Vzmax=4.0, Vqmax=0.05, inertia = 1.0, levy_c_frac = 0.1, levy_q_max_step=10.0, target_avg_Q_step = 0.1, stagn_thres = 23)\n",
    "    # timing\n",
    "    \n",
    "    start = time.perf_counter()\n",
    "    #plan, best_val = sw.optimize(n_iter=0)\n",
    "    end = time.perf_counter()\n",
    "    \n",
    "    plan, best_val = sw.optimize(n_iter=10000)\n",
    "    #X, Q = encode_prod_plan(plan.T,demand)\n",
    "    #new_plan = decode_prod_plan(X.T,Q.T,demand)\n",
    "    \n",
    "    #if np.any(abs(plan - new_plan)>1):\n",
    "        #print(\"true plan\\n\", plan)\n",
    "        #print(\"encoded plan\\n\", new_plan)\n",
    "        #print('-------------------------')\n",
    "     \n",
    "    #print(f\"Elapsed time: {end - start:.4f} seconds\")\n",
    "    if best_val[0][0]==0.0:\n",
    "        results.append(best_val[0][1])\n",
    "   \n",
    "    else:\n",
    "        #print(i)\n",
    "        bad_results.append((plan,best_val))\n",
    "\n",
    "print(results)"
   ]
  },
  {
   "cell_type": "code",
   "execution_count": 9,
   "id": "ce29dbf5-9cff-44fa-a95c-67605e73517a",
   "metadata": {},
   "outputs": [
    {
     "name": "stdout",
     "output_type": "stream",
     "text": [
      "6534.0\n",
      "6547.3\n",
      "6606.75\n",
      "6729.0\n",
      "6970.25\n",
      "7027.0\n",
      "7038.8\n",
      "7092.0\n"
     ]
    }
   ],
   "source": [
    "print(np.percentile(results,0))\n",
    "print( np.percentile(results,5))\n",
    "print( np.percentile(results,25))\n",
    "print(np.percentile(results,50))\n",
    "print( np.percentile(results,75))\n",
    "print( np.percentile(results,90))\n",
    "print(np.percentile(results,95))\n",
    "print(np.percentile(results,100))"
   ]
  },
  {
   "cell_type": "code",
   "execution_count": 10,
   "id": "52615ea3-aee8-476a-b71a-b06881d78e9c",
   "metadata": {},
   "outputs": [
    {
     "data": {
      "text/plain": [
       "0"
      ]
     },
     "execution_count": 10,
     "metadata": {},
     "output_type": "execute_result"
    }
   ],
   "source": [
    "len(bad_results)"
   ]
  },
  {
   "cell_type": "code",
   "execution_count": null,
   "id": "4667d7c2-b4b0-4a30-9f0a-57e2db2ddb39",
   "metadata": {},
   "outputs": [],
   "source": []
  }
 ],
 "metadata": {
  "kernelspec": {
   "display_name": "fullstack",
   "language": "python",
   "name": "fullstack"
  },
  "language_info": {
   "codemirror_mode": {
    "name": "ipython",
    "version": 3
   },
   "file_extension": ".py",
   "mimetype": "text/x-python",
   "name": "python",
   "nbconvert_exporter": "python",
   "pygments_lexer": "ipython3",
   "version": "3.9.13"
  }
 },
 "nbformat": 4,
 "nbformat_minor": 5
}
