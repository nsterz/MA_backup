{
 "cells": [
  {
   "cell_type": "code",
   "execution_count": 1,
   "id": "9c772fbb-91c5-4780-b768-355ba94e9355",
   "metadata": {},
   "outputs": [],
   "source": [
    "from dataclasses import dataclass\n",
    "import numpy as np\n",
    "from numba import njit, prange, get_thread_id\n",
    "import numba\n",
    "import os\n",
    "import time\n",
    "import math\n",
    "from helper_functions import round\n",
    "from levy_flights import estimate_mean_abs_levy, levy_step, levy_bit_flip,levy_jump_Q\n",
    "from Swarm_IQ import decode_prod_plan, compute_objective, encode_prod_plan"
   ]
  },
  {
   "cell_type": "code",
   "execution_count": 2,
   "id": "a6f9b534-e04c-421b-a549-3d387f3a7f84",
   "metadata": {},
   "outputs": [],
   "source": [
    "\n",
    "@dataclass(frozen=True)\n",
    "class SwarmConfig:\n",
    "    M: int = 8\n",
    "    T: int = 8\n",
    "    setup_costs: np.ndarray = np.array([112,184,144,187,127,147,100,188], dtype=np.float64)\n",
    "    production_costs: np.ndarray = np.array([1,1,1,1,1,1,1,1], dtype=np.float64)\n",
    "    inventory_costs: np.ndarray = np.array([5,3,4,6,5,3,6,2], dtype=np.float64)\n",
    "    production_times: np.ndarray = np.array([1,1,1,1,1,1,1,1], dtype=np.float64)\n",
    "    setup_times: np.ndarray = np.array([2,5,5,1,8,3,6,2], dtype=np.float64)\n",
    "    capacities: np.ndarray = np.array([200,200,210,200,160,190,170,170], dtype=np.float64)\n",
    "    # each row corresponds to one product\n",
    "    demand: np.ndarray = np.array([[43.0, 29.0, 52.0, 0.0, 0.0, 0.0, 42.0, 0.0],\n",
    "       [30.0, 0.0, 0.0, 40.0, 20.0, 0.0, 6.0, 27.0],\n",
    "       [0, 20, 0, 50, 60, 11, 0, 30],\n",
    "       [33.0, 43.0, 30.0, 0.0, 16.0, 48.0, 37.0, 33.0],\n",
    "       [0.0, 0.0, 0.0, 41.0, 16.0, 0.0, 55.0, 0.0],\n",
    "       [0, 0, 21, 13, 7, 0, 22, 0],\n",
    "       [0.0, 25.0, 43.0, 25.0, 0.0, 52.0, 10.0, 42.0],\n",
    "       [42.0, 18.0, 40.0, 2.0, 0.0, 71.0, 0.0, 41.0]], dtype=np.float64)"
   ]
  },
  {
   "cell_type": "code",
   "execution_count": 63,
   "id": "656a5845-6ba7-4247-9605-b85c3fc13e8d",
   "metadata": {},
   "outputs": [],
   "source": [
    "\n",
    "\n",
    "@njit\n",
    "def iterate_bat(\n",
    "    X, Q, VZPK, VQPK, pbest_X, pbest_Q, pbest_value,\n",
    "    gbest_X, gbest_Q, A_i, r_i, f_min, f_max, alpha, gamma,\n",
    "    r0, t_global, max_iter, Vzmax, Vqmax,demand, production_times, \n",
    "    setup_times, capacities, production_costs, setup_costs, inventory_costs,\n",
    "    rand_f, rand_local, rand_eps, rand_vals, particle_idx, A_avg, bit_flip_share, levy_alpha\n",
    "):\n",
    "\n",
    "    M, T = X.shape\n",
    "\n",
    "    # 1) Frequency update\n",
    "    f = f_min + (f_max - f_min) * rand_f\n",
    "\n",
    "    # 2) Velocity updates\n",
    "    for i in range(M):\n",
    "        for j in range(T):\n",
    "            # binary component velocity (pre-sigmoid)\n",
    "            VZPK[i, j] += f * (gbest_X[i, j] - X[i, j])\n",
    "            if VZPK[i, j] > Vzmax:\n",
    "                VZPK[i, j] = Vzmax\n",
    "            elif VZPK[i, j] < -Vzmax:\n",
    "                VZPK[i, j] = -Vzmax\n",
    "\n",
    "            # continuous component velocity\n",
    "            VQPK[i, j] += f * (gbest_Q[i, j] - Q[i, j])\n",
    "            if VQPK[i, j] > Vqmax:\n",
    "                VQPK[i, j] = Vqmax\n",
    "            elif VQPK[i, j] < -Vqmax:\n",
    "                VQPK[i, j] = -Vqmax\n",
    "\n",
    "    # 3) Position updates\n",
    "    for i in range(M):\n",
    "        for j in range(T):\n",
    "            # X‐bit (sigmoid threshold)\n",
    "            if 1.0 / (1.0 + np.exp(-VZPK[i, j])) > rand_vals[i, j]:\n",
    "                X[i, j] = 1.0\n",
    "            else:\n",
    "                X[i, j] = 0.0\n",
    "\n",
    "            # Q component\n",
    "            Q[i, j] = Q[i, j] + VQPK[i, j]\n",
    "\n",
    "\n",
    "    \n",
    "    # 5) Local random walk if rand_local < r_i\n",
    "    if rand_local < r_i:\n",
    "\n",
    "    \n",
    "        for i in range(M):\n",
    "            for j in range(T):\n",
    "                eps = 2.0 * rand_eps[i,j] - 1.0\n",
    "                Q[i, j] = Q[i, j] + eps * A_avg\n",
    "                \n",
    "                if Q[i, j] < -1.0:\n",
    "                    Q[i, j] = -1.0\n",
    "                elif Q[i, j] > 1.0:\n",
    "                    Q[i, j] = 1.0\n",
    "\n",
    "        X[:] = levy_bit_flip(X, bit_flip_share, levy_alpha)\n",
    "\n",
    "    # 6) Decode & evaluate fitness\n",
    "    prod_quant = decode_prod_plan(X.T, Q.T, demand)  # T×M\n",
    "    X_float = X.astype(np.float64)\n",
    "    fitness = compute_objective(\n",
    "        prod_quant, X_float,\n",
    "        setup_costs, production_costs,\n",
    "        production_times, setup_times,\n",
    "        capacities, inventory_costs, demand\n",
    "    )\n",
    "\n",
    "    # 7) Update personal best\n",
    "    fv0 = fitness[0]\n",
    "    fv1 = fitness[1]\n",
    "    bv0 = pbest_value[0, 0]\n",
    "    bv1 = pbest_value[0, 1]\n",
    "\n",
    "    if (fv0 < bv0) or (fv0 == bv0 and fv1 < bv1):\n",
    "        \n",
    "        # update pulse rate and loudness if bat improved\n",
    "        A_i = A_i * alpha\n",
    "        r_i = r0 * (1 - np.exp(-gamma * t_global))\n",
    "        \n",
    "        # new personal best\n",
    "        for ii in range(M):\n",
    "            for jj in range(T):\n",
    "                pbest_X[ii, jj] = X[ii, jj]\n",
    "                pbest_Q[ii, jj] = Q[ii, jj]\n",
    "        pbest_value[0, 0] = fv0\n",
    "        pbest_value[0, 1] = fv1\n",
    "\n",
    "\n",
    "    return (\n",
    "        X, Q, VZPK, VQPK,\n",
    "        pbest_X, pbest_Q, pbest_value,\n",
    "        A_i, r_i\n",
    "    )\n"
   ]
  },
  {
   "cell_type": "markdown",
   "id": "94a01fe1-60f1-47b7-9ad7-6dcbb949bb4e",
   "metadata": {},
   "source": [
    "<!-- Pseudo-code for update_swarm -->\n",
    "<ol>\n",
    "  <li>Let <code>num_threads</code> ← number of parallel threads</li>\n",
    "  <li>Initialize arrays:\n",
    "    <ul>\n",
    "      <li><code>thread_best_values[num_threads]</code> ← ∞</li>\n",
    "      <li><code>thread_best_indices[num_threads]</code> ← 0</li>\n",
    "    </ul>\n",
    "  </li>\n",
    "  <li>Let <code>N</code> ← number of particles</li>\n",
    "  <li>Parallel loop over <code>i</code> from 0 to <code>N–1</code>:\n",
    "    <ol type=\"a\">\n",
    "      <li>Call <code>iterate</code> on particle <code>i</code>, passing its state and precomputed random values \n",
    "        → returns updated state and personal best <code>pbest_value</code>\n",
    "      </li>\n",
    "      <li>Write back updated state into global arrays</li>\n",
    "      <li>Let <code>t</code> ← thread ID</li>\n",
    "      <li>If <code>pbest_value &lt; thread_best_values[t]</code>:\n",
    "        <ul>\n",
    "          <li><code>thread_best_values[t]</code> ← <code>pbest_value</code></li>\n",
    "          <li><code>thread_best_indices[t]</code> ← <code>i</code></li>\n",
    "        </ul>\n",
    "      </li>\n",
    "    </ol>\n",
    "  </li>\n",
    "  <li>Return (<code>thread_best_values</code>, <code>thread_best_indices</code>)</li>\n",
    "</ol>\n"
   ]
  },
  {
   "cell_type": "code",
   "execution_count": 64,
   "id": "23940df6-e205-48a0-8069-7e777c966011",
   "metadata": {},
   "outputs": [],
   "source": [
    "from numba import njit, prange\n",
    "import numpy as np\n",
    "\n",
    "@njit(parallel=True)\n",
    "def update_swarm_bat(\n",
    "    Xs, Qs, VZs, VQs, pbest_X, pbest_Q, pbest_Val,\n",
    "    gbest_X, gbest_Q, As, rs, f_min, f_max, alpha,\n",
    "    gamma, r0, t_global, max_iter, Vzmax, Vqmax,\n",
    "    demand, production_times, setup_times, capacities,\n",
    "    production_costs, setup_costs, inventory_costs,\n",
    "    rand_f, rand_local, rand_eps, rand_vals, bit_flip_share, levy_alpha\n",
    "):\n",
    "    \"\"\"\n",
    "    Parallel update of all N bats; returns per-thread bests for gbest reduction.\n",
    "    \"\"\"\n",
    "    K = As.shape[0]\n",
    "\n",
    "    # 1) Compute A_avg manually (fastest under Numba)\n",
    "    A_sum = 0.0\n",
    "    for k in range(K):\n",
    "        A_sum += As[k]\n",
    "    A_avg = A_sum / K\n",
    "\n",
    "    nthreads = numba.get_num_threads()\n",
    "    local_best = np.full((nthreads, 1, 2), np.inf)\n",
    "    local_idx  = np.zeros(nthreads, np.int64)\n",
    "    N = Xs.shape[0]\n",
    "\n",
    "    for i in prange(N):\n",
    "        # Directly call iterate_bat on the indexed arrays\n",
    "        Xs[i], Qs[i], VZs[i], VQs[i], \\\n",
    "        pbest_X[i], pbest_Q[i], pbest_Val[i], \\\n",
    "        As[i], rs[i] = iterate_bat(\n",
    "            Xs[i], Qs[i], VZs[i], VQs[i],\n",
    "            pbest_X[i], pbest_Q[i], pbest_Val[i],\n",
    "            gbest_X, gbest_Q,\n",
    "            As[i], rs[i],\n",
    "            f_min, f_max, alpha, gamma,\n",
    "            r0, t_global, max_iter,    # ← pass them here\n",
    "            Vzmax, Vqmax,\n",
    "            demand, production_times, setup_times, capacities,\n",
    "            production_costs, setup_costs, inventory_costs,\n",
    "            rand_f[i], rand_local[i], rand_eps[i], rand_vals[i], i,\n",
    "            A_avg, bit_flip_share, levy_alpha\n",
    "        )\n",
    "\n",
    "        # Thread-local best tracking\n",
    "        t_id = numba.get_thread_id()\n",
    "        pv0 = pbest_Val[i][0, 0]\n",
    "        pv1 = pbest_Val[i][0, 1]\n",
    "        lb0 = local_best[t_id, 0, 0]\n",
    "        lb1 = local_best[t_id, 0, 1]\n",
    "        if (pv0 < lb0) or (pv0 == lb0 and pv1 < lb1):\n",
    "            local_best[t_id, 0, 0] = pv0\n",
    "            local_best[t_id, 0, 1] = pv1\n",
    "            local_idx[t_id]       = i\n",
    "\n",
    "    return local_best, local_idx\n"
   ]
  },
  {
   "cell_type": "code",
   "execution_count": 65,
   "id": "2ba9e7bd-9e59-47f4-9330-06032463a385",
   "metadata": {
    "scrolled": true
   },
   "outputs": [],
   "source": [
    "import numpy as np\n",
    "\n",
    "class BatAlgorithm:\n",
    "    def __init__(self, n_particles, f_min=0.0, f_max=2.0, alpha=0.9,\n",
    "        gamma=0.005, r0=0.2, Vzmax=4.0, Vqmax=0.1, bit_flip_share = 0.1, \n",
    "        levy_alpha = 1.5, levy_samples = 100000\n",
    "    ):\n",
    "        self.cfg = SwarmConfig()\n",
    "        self.N, self.M, self.T = n_particles, self.cfg.M, self.cfg.T\n",
    "\n",
    "        self.Vzmax, self.Vqmax = Vzmax, Vqmax\n",
    "\n",
    "        # initialize Qs\n",
    "        self.Qs = np.random.rand(self.N, self.T, self.M)\n",
    "        #self.Qs = np.random.uniform(-1.0, 1.0, size=(N, T, M))\n",
    "        \n",
    "        # initialize Xs \n",
    "        self.Xs = np.random.randint(0, 2, size=(self.N, self.T, self.M)).astype(np.float64)\n",
    "\n",
    "\n",
    "        # Velocities (N × T × M)\n",
    "        self.VZs = (np.random.rand(self.N, self.T, self.M) * 2 - 1) * Vzmax\n",
    "        self.VQs = (np.random.rand(self.N, self.T, self.M) * 2 - 1) * Vqmax\n",
    "\n",
    "        # Personal bests (N × T × M and N × 1 × 2)\n",
    "        self.pbest_X = self.Xs.copy()\n",
    "        self.pbest_Q = self.Qs.copy()\n",
    "        self.pbest_Val = np.full((self.N, 1, 2), np.inf)\n",
    "\n",
    "        # Global best (T × M and 1 × 2)\n",
    "        self.gbest_X = np.zeros((self.T, self.M), dtype=np.float64)\n",
    "        self.gbest_Q = np.zeros((self.T, self.M), dtype=np.float64)\n",
    "        self.gbest_Val = np.full((1, 2), np.inf)\n",
    "\n",
    "        # random walk parameters\n",
    "        mean_abs_L = estimate_mean_abs_levy(levy_alpha, levy_samples)\n",
    "\n",
    "        self.bit_flip_share = (bit_flip_share ) / mean_abs_L\n",
    "        #self.bit_flip_share = bit_flip_share\n",
    "        self.levy_alpha = levy_alpha\n",
    "\n",
    "        # Bat-specific hyperparameters\n",
    "        self.f_min, self.f_max = f_min, f_max\n",
    "        self.alpha, self.gamma = alpha, gamma\n",
    "\n",
    "        # Pulse-rate schedule: rᵢ starts at 0, will linearly ramp up to r0 by max_iter\n",
    "        self.r0 = r0\n",
    "        self.rs = np.zeros(self.N, dtype=np.float64)  # overrides decay schedule\n",
    "\n",
    "        # Loudness per bat (N,)\n",
    "        #self.As = np.ones(self.N, dtype=np.float64)\n",
    "        self.As = np.random.uniform(1.0, 2.0, self.N)\n",
    "        self.As = np.random.rand(self.N)\n",
    "        # Iteration counters\n",
    "        self.t = 0\n",
    "        self.stagnation = 0\n",
    "\n",
    "\n",
    "        # Cold-start: run one “iteration” with zeroed randoms so that pbest/gbest fill\n",
    "        # Note: we must call update_swarm_bat exactly with the same signature below.\n",
    "        self._reduce_global(\n",
    "            update_swarm_bat(\n",
    "                self.Xs, self.Qs, self.VZs, self.VQs,\n",
    "                self.pbest_X, self.pbest_Q, self.pbest_Val,\n",
    "                self.gbest_X, self.gbest_Q,\n",
    "                self.As, self.rs,\n",
    "                self.f_min, self.f_max, self.alpha, self.gamma,\n",
    "                self.r0, self.t, 0,      # t_global=0, max_iter=0 for cold-start\n",
    "                self.Vzmax, self.Vqmax,\n",
    "                self.cfg.demand, self.cfg.production_times,\n",
    "                self.cfg.setup_times, self.cfg.capacities,\n",
    "                self.cfg.production_costs, self.cfg.setup_costs,\n",
    "                self.cfg.inventory_costs,\n",
    "                np.zeros(self.N), np.zeros(self.N), np.zeros((self.N, self.T, self.M)),\n",
    "                np.zeros((self.N, self.T, self.M)) , 0.0, 0.0\n",
    "            )\n",
    "        )\n",
    "\n",
    "\n",
    "\n",
    "    def _reduce_global(self, thread_results):\n",
    "        # reduces all the thread-local minima into a single true global minimum\n",
    "        values, indices = thread_results\n",
    "        for t in range(values.shape[0]):\n",
    "            i = indices[t]\n",
    "            v0 = values[t, 0, 0]\n",
    "            v1 = values[t, 0, 1]\n",
    "            b0 = self.gbest_Val[0, 0]\n",
    "            b1 = self.gbest_Val[0, 1]\n",
    "            if (v0 < b0) or (v0 == b0 and v1 < b1):\n",
    "                self.gbest_Val[0, 0] = v0\n",
    "                self.gbest_Val[0, 1] = v1\n",
    "                self.gbest_X[:] = self.pbest_X[i]\n",
    "                self.gbest_Q[:] = self.pbest_Q[i]\n",
    "                \n",
    "    def optimize(self, n_iter):\n",
    "        N, T, M = self.Xs.shape\n",
    "        self.max_iter = n_iter   # ← set max_iter once\n",
    "\n",
    "        for i in range(n_iter):\n",
    "            if (i==500):\n",
    "                self.Vqmax = 0.1\n",
    "                self.Vzmax = 4\n",
    "            # Increment global iteration counter\n",
    "            self.t += 1\n",
    "\n",
    "            # Pre‐generate all random arrays\n",
    "            rand_f      = np.random.rand(N)         # frequency ∈ [0,1]\n",
    "            rand_local  = np.random.rand(N)         # local‐walk decision ∈ [0,1]\n",
    "            rand_eps   = np.random.rand(N, T, M)        # ε for local walk ∈ [0,1]\n",
    "            rand_vals   = np.random.rand(N, T, M)   # for X‐threshold ∈ [0,1]\n",
    "\n",
    "            # Call the updated swarm‐update with linear‐ramp signature\n",
    "            thread_results = update_swarm_bat(\n",
    "                self.Xs, self.Qs, self.VZs, self.VQs,\n",
    "                self.pbest_X, self.pbest_Q, self.pbest_Val,\n",
    "                self.gbest_X, self.gbest_Q,\n",
    "                self.As, self.rs,\n",
    "                self.f_min, self.f_max, self.alpha, self.gamma,\n",
    "                self.r0, self.t, self.max_iter,       \n",
    "                self.Vzmax, self.Vqmax,\n",
    "                self.cfg.demand, self.cfg.production_times,\n",
    "                self.cfg.setup_times, self.cfg.capacities,\n",
    "                self.cfg.production_costs, self.cfg.setup_costs,\n",
    "                self.cfg.inventory_costs,\n",
    "                rand_f, rand_local, rand_eps, rand_vals, self.bit_flip_share, self.levy_alpha\n",
    "            )\n",
    "\n",
    "            # Reduce thread‐local bests into a single gbest\n",
    "            self._reduce_global(thread_results)\n",
    "         # At the end, return the best plan and its value\n",
    "        return decode_prod_plan(self.gbest_X.T, self.gbest_Q.T, self.cfg.demand), self.gbest_Val\n",
    "\n",
    "\n",
    "\n",
    "        "
   ]
  },
  {
   "cell_type": "code",
   "execution_count": 66,
   "id": "214927c9-4066-429f-9439-e3fe78c68ea7",
   "metadata": {},
   "outputs": [
    {
     "name": "stdout",
     "output_type": "stream",
     "text": [
      "[9757.0, 7606.0, 7241.0, 7483.0, 7373.0, 7850.0, 7663.0, 8696.0, 7318.0, 7631.0, 8044.0, 8359.0, 7119.0, 8309.0, 7307.0, 7703.0, 7247.0, 7950.0, 8792.0, 8688.0, 8081.0, 7132.0, 7613.0, 7405.0, 7509.0, 7687.0, 7572.0, 8503.0, 8188.0, 7939.0, 7716.0, 7443.0, 7249.0, 7422.0, 7563.0, 7820.0, 7459.0, 7374.0, 7379.0, 7678.0, 7719.0, 6954.0, 7986.0, 7225.0, 7732.0, 7578.0, 7762.0, 7896.0, 7721.0, 7938.0, 7460.0, 7737.0, 8202.0, 8144.0, 9117.0, 7497.0, 7238.0, 8221.0, 7020.0, 7453.0, 7755.0, 7889.0, 7389.0, 7509.0, 7863.0, 7555.0, 7252.0, 7600.0, 8135.0, 7385.0, 7555.0, 7361.0, 6887.0, 7851.0, 7348.0, 7580.0, 8229.0, 8587.0, 7102.0, 7050.0, 7516.0, 7668.0, 8928.0, 7557.0, 7566.0, 7530.0, 7573.0, 8027.0, 7660.0, 7840.0, 8020.0, 7654.0, 7348.0, 8011.0, 7705.0, 7634.0, 7564.0, 10613.0, 7907.0]\n",
      "median 7634.0\n",
      "infeasible 1\n"
     ]
    }
   ],
   "source": [
    "results = []\n",
    "bad_results = []\n",
    "for i in range(100):\n",
    "\n",
    "    np.random.seed(i)  \n",
    "    # instantiate swarm\n",
    "    \n",
    "    sw = BatAlgorithm(n_particles=100, f_min=0.8,f_max=1.6, alpha=0.995, gamma = 0.005 ,\n",
    "        r0 = 0.03, Vzmax = 4., Vqmax=0.1, bit_flip_share = 0.1, levy_alpha = 1.5)\n",
    "    \n",
    "    start = time.perf_counter()\n",
    "    plan, best_val = sw.optimize(n_iter=5000)\n",
    "    end = time.perf_counter()\n",
    "    \n",
    "    #print(f\"Elapsed time: {end - start:.4f} seconds\")\n",
    "    if best_val[0][0]==0.0:\n",
    "        results.append(best_val[0][1])\n",
    "        \n",
    "    else:\n",
    "        bad_results.append((plan, sw.gbest_Q, sw.gbest_X))\n",
    "print(results)\n",
    "print('median',np.median(results))\n",
    "print('infeasible',len(bad_results))"
   ]
  },
  {
   "cell_type": "code",
   "execution_count": null,
   "id": "6a21f5b2-8014-4caf-a158-07d549956674",
   "metadata": {},
   "outputs": [],
   "source": []
  },
  {
   "cell_type": "code",
   "execution_count": null,
   "id": "87d15f6e-19fb-412c-97f0-bc5d82cc9bec",
   "metadata": {},
   "outputs": [],
   "source": [
    "7550 --> 0.8,1.6"
   ]
  },
  {
   "cell_type": "code",
   "execution_count": null,
   "id": "7f5cdfc2-e1db-4006-9e83-7f56371e9ec5",
   "metadata": {},
   "outputs": [],
   "source": []
  },
  {
   "cell_type": "code",
   "execution_count": null,
   "id": "0263da3e-9d9b-4963-b379-4143313211c6",
   "metadata": {},
   "outputs": [],
   "source": []
  },
  {
   "cell_type": "code",
   "execution_count": 104,
   "id": "7e2c6888-63ca-4e30-9bc9-aabb7608a2c8",
   "metadata": {},
   "outputs": [
    {
     "name": "stdout",
     "output_type": "stream",
     "text": [
      "1830.0\n",
      "1862.0\n",
      "1924.0\n",
      "1964.0\n",
      "2008.0\n",
      "2041.2\n",
      "2047.8\n",
      "2055.0\n"
     ]
    }
   ],
   "source": [
    "print(np.percentile(results,0))\n",
    "print( np.percentile(results,5))\n",
    "print( np.percentile(results,25))\n",
    "print(np.percentile(results,50))\n",
    "print( np.percentile(results,75))\n",
    "print( np.percentile(results,90))\n",
    "print(np.percentile(results,95))\n",
    "print(np.percentile(results,100))"
   ]
  },
  {
   "cell_type": "code",
   "execution_count": 105,
   "id": "c833784e-5285-42e6-aa35-8536fbd004e1",
   "metadata": {},
   "outputs": [
    {
     "data": {
      "text/plain": [
       "array([0.73002594, 0.52754457, 0.77242077, 0.6687195 , 0.51762247,\n",
       "       0.48141679, 0.60841842, 0.80165001, 0.52533497, 0.65690409,\n",
       "       0.72639812, 0.48681517, 0.89131195, 1.00004847, 0.65853092,\n",
       "       0.69027277, 0.47926531, 0.76925519, 0.79206912, 0.60300304,\n",
       "       0.63713691, 0.52371932, 0.7353537 , 0.3412569 , 1.05083847,\n",
       "       0.75608751, 0.83206571, 0.60419097, 0.65135447, 0.63791525,\n",
       "       0.69233449, 0.64340766, 0.49841903, 0.53191532, 0.61100219,\n",
       "       0.50567226, 0.618564  , 0.68874258, 0.99577278, 1.03432604,\n",
       "       0.55168687, 0.67914739, 1.13710008, 0.83099109, 0.63904618,\n",
       "       0.86684779, 0.56151635, 0.87407487, 0.81670671, 0.97206428,\n",
       "       0.816275  , 1.07719409, 0.81337647, 0.75682645, 0.83281569,\n",
       "       0.82082122, 0.4504596 , 0.85093693, 0.81723489, 0.56296596,\n",
       "       0.40498759, 0.771515  , 0.86222128, 0.71478262, 0.39494225,\n",
       "       0.92152375, 0.50682592, 0.436835  , 0.66717765, 0.35882421,\n",
       "       0.70166808, 0.55884201, 0.87889309, 0.67210569, 0.69626001,\n",
       "       0.8149733 , 0.44225444, 0.75902091, 0.55190975, 0.77736786,\n",
       "       0.74957626, 0.70236539, 1.06639425, 0.58980765, 0.48825252,\n",
       "       0.5274314 , 0.89620452, 0.58726024, 0.58260037, 0.75235093,\n",
       "       0.79287885, 0.52886687, 0.48699498, 0.6278548 , 0.91900285,\n",
       "       0.68169892, 0.6260607 , 0.65549897, 0.7997285 , 0.67149513])"
      ]
     },
     "execution_count": 105,
     "metadata": {},
     "output_type": "execute_result"
    }
   ],
   "source": [
    "sw.As"
   ]
  },
  {
   "cell_type": "code",
   "execution_count": 26,
   "id": "f854d39d-1fd5-48c3-88ae-84cfca9c0159",
   "metadata": {},
   "outputs": [],
   "source": [
    "a,b,c = bad_results[-2]"
   ]
  },
  {
   "cell_type": "code",
   "execution_count": 50,
   "id": "38c32d3d-eecc-4e3a-aded-735c73e48288",
   "metadata": {},
   "outputs": [
    {
     "data": {
      "text/plain": [
       "array([[10., 23., 15.],\n",
       "       [40.,  0.,  0.],\n",
       "       [ 0.,  0., 60.],\n",
       "       [35., 36.,  0.],\n",
       "       [65.,  0.,  0.],\n",
       "       [ 0., 60.,  0.]])"
      ]
     },
     "execution_count": 50,
     "metadata": {},
     "output_type": "execute_result"
    }
   ],
   "source": [
    "decode_Q(c.T,b.T,sw.cfg.demand)"
   ]
  },
  {
   "cell_type": "code",
   "execution_count": 12,
   "id": "4a51a1e7-1b30-41ed-b78e-de73609c37aa",
   "metadata": {},
   "outputs": [
    {
     "data": {
      "text/plain": [
       "array([[10., 20.,  2.],\n",
       "       [20.,  0., 10.],\n",
       "       [20.,  3., 12.],\n",
       "       [ 0., 18., 30.],\n",
       "       [35., 13.,  0.],\n",
       "       [65., 65.,  0.]])"
      ]
     },
     "execution_count": 12,
     "metadata": {},
     "output_type": "execute_result"
    }
   ],
   "source": [
    "sw.cfg.demand.T"
   ]
  },
  {
   "cell_type": "code",
   "execution_count": 47,
   "id": "2f1c12c1-c34e-4199-afe7-64d66071e81c",
   "metadata": {},
   "outputs": [
    {
     "data": {
      "text/plain": [
       "array([[1., 1., 1.],\n",
       "       [1., 0., 0.],\n",
       "       [0., 0., 1.],\n",
       "       [1., 1., 1.],\n",
       "       [1., 0., 1.],\n",
       "       [0., 1., 0.]])"
      ]
     },
     "execution_count": 47,
     "metadata": {},
     "output_type": "execute_result"
    }
   ],
   "source": [
    "c"
   ]
  },
  {
   "cell_type": "code",
   "execution_count": 48,
   "id": "5284ec99-9f5b-4969-8662-af96a6531956",
   "metadata": {},
   "outputs": [
    {
     "data": {
      "text/plain": [
       "array([[ 10.,  23.,  15.],\n",
       "       [ 40.,   0.,   0.],\n",
       "       [  0.,   0.,  60.],\n",
       "       [ 35.,  36., -21.],\n",
       "       [ 65.,   0.,   0.],\n",
       "       [  0.,  60.,   0.]])"
      ]
     },
     "execution_count": 48,
     "metadata": {},
     "output_type": "execute_result"
    }
   ],
   "source": [
    "a"
   ]
  },
  {
   "cell_type": "code",
   "execution_count": null,
   "id": "4bd1d22e-4853-4071-b3b3-f2c1c36e7e2b",
   "metadata": {},
   "outputs": [],
   "source": []
  },
  {
   "cell_type": "code",
   "execution_count": null,
   "id": "06317847-3e96-4d74-ac9c-1ce46f381b4d",
   "metadata": {},
   "outputs": [],
   "source": []
  },
  {
   "cell_type": "code",
   "execution_count": null,
   "id": "3d0008b7-fef3-4fd1-afa8-26d3e0050a2b",
   "metadata": {},
   "outputs": [],
   "source": [
    "1817.0\n",
    "1876.8\n",
    "1920.25\n",
    "2000.0\n",
    "2058.25\n",
    "2119.0\n",
    "2183.45\n",
    "2339.0\n",
    "\n",
    "2"
   ]
  },
  {
   "cell_type": "code",
   "execution_count": 351,
   "id": "b00489da-1e50-4bad-a7b5-e168fc823224",
   "metadata": {},
   "outputs": [
    {
     "data": {
      "text/plain": [
       "array([[ 0.        ,  0.        ,  0.        ],\n",
       "       [ 0.25010769,  0.4667733 ,  0.44436868],\n",
       "       [-0.00564891,  0.34527375,  1.67734556],\n",
       "       [ 0.63965803,  0.15966737, -0.42733553],\n",
       "       [-0.13778155,  0.61157645, -0.6125451 ],\n",
       "       [ 0.23557812,  0.83998715, -0.26073664]])"
      ]
     },
     "execution_count": 351,
     "metadata": {},
     "output_type": "execute_result"
    }
   ],
   "source": [
    "sw.gbest_Q"
   ]
  },
  {
   "cell_type": "code",
   "execution_count": 352,
   "id": "de318b02-4345-4ff6-8fb8-167d6281b51a",
   "metadata": {},
   "outputs": [
    {
     "data": {
      "text/plain": [
       "array([[-0.53994803,  0.18845941,  0.11929359],\n",
       "       [ 0.56159089,  0.05951194, -0.04380776],\n",
       "       [ 0.21237778,  0.38788536,  0.6613913 ],\n",
       "       [ 0.79871776, -0.18587317,  0.10406164],\n",
       "       [-0.69223154, -0.55084327,  0.79313501],\n",
       "       [-0.33580503, -0.704038  , -0.8870426 ]])"
      ]
     },
     "execution_count": 352,
     "metadata": {},
     "output_type": "execute_result"
    }
   ],
   "source": [
    "np.random.uniform(-1.0, 1.0, size=(6,3))"
   ]
  },
  {
   "cell_type": "code",
   "execution_count": 376,
   "id": "7df236b0-2692-4be2-b245-71c963357d9c",
   "metadata": {},
   "outputs": [],
   "source": [
    "# initialize Qs\n",
    "positions = np.random.uniform(-1.0, 1.0, size=(N,T, M))\n",
    "positions[:, -1, :] = np.random.uniform(0.0,1.0,(N,M))\n",
    "positions[:, 0, :] = np.random.uniform(-1.0,0.0,(N,M))\n",
    "self.Qs = positions"
   ]
  },
  {
   "cell_type": "code",
   "execution_count": 377,
   "id": "6b55b440-a608-411f-a516-b29b763d250f",
   "metadata": {},
   "outputs": [
    {
     "data": {
      "text/plain": [
       "array([[[-0.73671198, -0.20537019, -0.10912174],\n",
       "        [ 0.26099631, -0.04678932, -0.85700447],\n",
       "        [ 0.26567335,  0.0344989 ,  0.92292413],\n",
       "        [ 0.10184339,  0.82645612,  0.08590703],\n",
       "        [ 0.71792487,  0.6843265 ,  0.79956361],\n",
       "        [ 0.81890942,  0.8329664 ,  0.270803  ]],\n",
       "\n",
       "       [[-0.82751484, -0.75684415, -0.54100323],\n",
       "        [ 0.44942317, -0.87816879,  0.93076163],\n",
       "        [-0.49851813, -0.59640514, -0.04149161],\n",
       "        [-0.73748963,  0.64448716, -0.76782696],\n",
       "        [ 0.43010968,  0.94097444,  0.01768075],\n",
       "        [ 0.49559549,  0.06948443,  0.45382433]]])"
      ]
     },
     "execution_count": 377,
     "metadata": {},
     "output_type": "execute_result"
    }
   ],
   "source": [
    "Q"
   ]
  },
  {
   "cell_type": "code",
   "execution_count": 361,
   "id": "e59582bc-8a16-402d-8d92-8b1deef714f9",
   "metadata": {},
   "outputs": [
    {
     "data": {
      "text/plain": [
       "array([[0.23655418, 0.39434175, 0.23167098]])"
      ]
     },
     "execution_count": 361,
     "metadata": {},
     "output_type": "execute_result"
    }
   ],
   "source": [
    "np.random.uniform(0.0,1.0,(1,3))"
   ]
  },
  {
   "cell_type": "code",
   "execution_count": 378,
   "id": "cf0ce8fa-6b21-47c5-983e-a18bd262d6d9",
   "metadata": {},
   "outputs": [
    {
     "data": {
      "text/plain": [
       "array([[[-0.73671198, -0.20537019, -0.10912174],\n",
       "        [ 0.26099631, -0.04678932, -0.85700447],\n",
       "        [ 0.26567335,  0.0344989 ,  0.92292413],\n",
       "        [ 0.10184339,  0.82645612,  0.08590703],\n",
       "        [ 0.71792487,  0.6843265 ,  0.79956361],\n",
       "        [ 0.81890942,  0.8329664 ,  0.270803  ]],\n",
       "\n",
       "       [[-0.82751484, -0.75684415, -0.54100323],\n",
       "        [ 0.44942317, -0.87816879,  0.93076163],\n",
       "        [-0.49851813, -0.59640514, -0.04149161],\n",
       "        [-0.73748963,  0.64448716, -0.76782696],\n",
       "        [ 0.43010968,  0.94097444,  0.01768075],\n",
       "        [ 0.49559549,  0.06948443,  0.45382433]]])"
      ]
     },
     "execution_count": 378,
     "metadata": {},
     "output_type": "execute_result"
    }
   ],
   "source": [
    "positions"
   ]
  },
  {
   "cell_type": "code",
   "execution_count": null,
   "id": "56531961-3aa2-4308-b9c8-28737dc55621",
   "metadata": {},
   "outputs": [],
   "source": []
  }
 ],
 "metadata": {
  "kernelspec": {
   "display_name": "fullstack",
   "language": "python",
   "name": "fullstack"
  },
  "language_info": {
   "codemirror_mode": {
    "name": "ipython",
    "version": 3
   },
   "file_extension": ".py",
   "mimetype": "text/x-python",
   "name": "python",
   "nbconvert_exporter": "python",
   "pygments_lexer": "ipython3",
   "version": "3.9.13"
  }
 },
 "nbformat": 4,
 "nbformat_minor": 5
}
